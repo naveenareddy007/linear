{
 "cells": [
  {
   "cell_type": "code",
   "execution_count": 4,
   "id": "fcee0685",
   "metadata": {},
   "outputs": [
    {
     "name": "stdout",
     "output_type": "stream",
     "text": [
      "[(2, 4), (1, 5)]\n"
     ]
    }
   ],
   "source": [
    "\n",
    "\n",
    "def find_pairs(array, target):\n",
    "    pairs = []\n",
    "    num_map = {}\n",
    "\n",
    "    for num in array:\n",
    "        complement = target - num\n",
    "        if complement in num_map:\n",
    "            for pair in num_map[complement]:\n",
    "                pairs.append((pair, num))\n",
    "        \n",
    "        if num in num_map:\n",
    "            num_map[num].append(num)\n",
    "        else:\n",
    "            num_map[num] = [num]\n",
    "\n",
    "    return pairs\n",
    "\n",
    "# Example usage\n",
    "arr = [1, 2, 3, 4, 5]\n",
    "target_sum = 6\n",
    "result = find_pairs(arr, target_sum)\n",
    "print(result)\n",
    "\n"
   ]
  },
  {
   "cell_type": "code",
   "execution_count": 5,
   "id": "13df2148",
   "metadata": {},
   "outputs": [
    {
     "name": "stdout",
     "output_type": "stream",
     "text": [
      "[5, 4, 3, 2, 1]\n"
     ]
    }
   ],
   "source": [
    "def reverse_array(array):\n",
    "    start = 0\n",
    "    end = len(array) - 1\n",
    "\n",
    "    while start < end:\n",
    "        array[start], array[end] = array[end], array[start]\n",
    "        start += 1\n",
    "        end -= 1\n",
    "\n",
    "# Example usage\n",
    "arr = [1, 2, 3, 4, 5]\n",
    "reverse_array(arr)\n",
    "print(arr)\n",
    "\n"
   ]
  },
  {
   "cell_type": "code",
   "execution_count": 6,
   "id": "18c364d5",
   "metadata": {},
   "outputs": [
    {
     "name": "stdout",
     "output_type": "stream",
     "text": [
      "True\n"
     ]
    }
   ],
   "source": [
    "\n",
    "\n",
    "def are_rotations(str1, str2):\n",
    "    # Check if both strings have the same length\n",
    "    if len(str1) != len(str2):\n",
    "        return False\n",
    "\n",
    "    # Concatenate str1 with itself\n",
    "    temp = str1 + str1\n",
    "\n",
    "    # Check if str2 is a substring of the concatenated string\n",
    "    if str2 in temp:\n",
    "        return True\n",
    "    else:\n",
    "        return False\n",
    "\n",
    "# Example usage\n",
    "string1 = \"rotation\"\n",
    "string2 = \"tationro\"\n",
    "result = are_rotations(string1, string2)\n",
    "print(result)\n",
    "\n",
    "\n",
    "\n"
   ]
  },
  {
   "cell_type": "code",
   "execution_count": 7,
   "id": "93bfc89c",
   "metadata": {},
   "outputs": [
    {
     "name": "stdout",
     "output_type": "stream",
     "text": [
      "c\n"
     ]
    }
   ],
   "source": [
    "def first_non_repeated_char(string):\n",
    "    char_count = {}\n",
    "\n",
    "    # Count the occurrences of each character in the string\n",
    "    for char in string:\n",
    "        if char in char_count:\n",
    "            char_count[char] += 1\n",
    "        else:\n",
    "            char_count[char] = 1\n",
    "\n",
    "    # Find the first character with count 1\n",
    "    for char in string:\n",
    "        if char_count[char] == 1:\n",
    "            return char\n",
    "\n",
    "    # If no non-repeated character is found, return None\n",
    "    return None\n",
    "\n",
    "# Example usage\n",
    "input_string = \"abracadabra\"\n",
    "result = first_non_repeated_char(input_string)\n",
    "print(result)\n",
    "\n",
    "\n",
    "\n"
   ]
  },
  {
   "cell_type": "code",
   "execution_count": 9,
   "id": "48ebe38b",
   "metadata": {},
   "outputs": [
    {
     "name": "stdout",
     "output_type": "stream",
     "text": [
      "Move disk 1 from A to C\n",
      "Move disk 2 from A to B\n",
      "Move disk 1 from C to B\n",
      "Move disk 3 from A to C\n",
      "Move disk 1 from B to A\n",
      "Move disk 2 from B to C\n",
      "Move disk 1 from A to C\n"
     ]
    }
   ],
   "source": [
    "def tower_of_hanoi(n, source, auxiliary, destination):\n",
    "    if n == 1:\n",
    "        print(f\"Move disk 1 from {source} to {destination}\")\n",
    "        return\n",
    "\n",
    "    tower_of_hanoi(n - 1, source, destination, auxiliary)\n",
    "    print(f\"Move disk {n} from {source} to {destination}\")\n",
    "    tower_of_hanoi(n - 1, auxiliary, source, destination)\n",
    "    \n",
    "    \n",
    "    # Example usage\n",
    "num_disks = 3\n",
    "tower_of_hanoi(num_disks, \"A\", \"B\", \"C\")\n"
   ]
  },
  {
   "cell_type": "code",
   "execution_count": 10,
   "id": "a581ee77",
   "metadata": {},
   "outputs": [
    {
     "name": "stdout",
     "output_type": "stream",
     "text": [
      "+2*34\n"
     ]
    }
   ],
   "source": [
    "\n",
    "\n",
    "def postfix_to_prefix(expression):\n",
    "    stack = []\n",
    "\n",
    "    # Iterate over the expression\n",
    "    for token in expression:\n",
    "        # If the token is an operand, push it to the stack\n",
    "        if token.isalnum():\n",
    "            stack.append(token)\n",
    "        # If the token is an operator, pop two operands from the stack,\n",
    "        # create a new string with the operator and operands in prefix order,\n",
    "        # and push the new string back to the stack\n",
    "        else:\n",
    "            operand2 = stack.pop()\n",
    "            operand1 = stack.pop()\n",
    "            new_token = token + operand1 + operand2\n",
    "            stack.append(new_token)\n",
    "\n",
    "    # The final string in the stack is the prefix expression\n",
    "    return stack.pop()\n",
    "\n",
    "# Example usage\n",
    "postfix_expression = \"234*+\"\n",
    "prefix_expression = postfix_to_prefix(postfix_expression)\n",
    "print(prefix_expression)\n",
    "\n",
    "\n",
    "\n"
   ]
  },
  {
   "cell_type": "code",
   "execution_count": 11,
   "id": "29adb183",
   "metadata": {},
   "outputs": [
    {
     "name": "stdout",
     "output_type": "stream",
     "text": [
      "((2*3)+4)\n"
     ]
    }
   ],
   "source": [
    "\n",
    "\n",
    "def prefix_to_infix(expression):\n",
    "    stack = []\n",
    "\n",
    "    # Iterate over the expression in reverse order\n",
    "    for token in reversed(expression):\n",
    "        # If the token is an operand, push it to the stack\n",
    "        if token.isalnum():\n",
    "            stack.append(token)\n",
    "        # If the token is an operator, pop two operands from the stack,\n",
    "        # create a new string with the operands and operator in infix order,\n",
    "        # and push the new string back to the stack\n",
    "        else:\n",
    "            operand1 = stack.pop()\n",
    "            operand2 = stack.pop()\n",
    "            new_token = f\"({operand1}{token}{operand2})\"\n",
    "            stack.append(new_token)\n",
    "\n",
    "    # The final string in the stack is the infix expression\n",
    "    return stack.pop()\n",
    "\n",
    "# Example usage\n",
    "prefix_expression = \"+*234\"\n",
    "infix_expression = prefix_to_infix(prefix_expression)\n",
    "print(infix_expression)\n"
   ]
  },
  {
   "cell_type": "code",
   "execution_count": 12,
   "id": "57335ace",
   "metadata": {},
   "outputs": [
    {
     "name": "stdout",
     "output_type": "stream",
     "text": [
      "True\n"
     ]
    }
   ],
   "source": [
    "def are_brackets_balanced(code):\n",
    "    stack = []\n",
    "\n",
    "    # Define opening and closing bracket characters\n",
    "    opening_brackets = ['(', '[', '{']\n",
    "    closing_brackets = [')', ']', '}']\n",
    "\n",
    "    # Iterate over each character in the code snippet\n",
    "    for char in code:\n",
    "        # If the character is an opening bracket, push it to the stack\n",
    "        if char in opening_brackets:\n",
    "            stack.append(char)\n",
    "        # If the character is a closing bracket, check if it matches the top of the stack\n",
    "        elif char in closing_brackets:\n",
    "            # If the stack is empty or the top of the stack does not match the current closing bracket,\n",
    "            # the brackets are not balanced\n",
    "            if not stack or opening_brackets[closing_brackets.index(char)] != stack[-1]:\n",
    "                return False\n",
    "            else:\n",
    "                stack.pop()\n",
    "\n",
    "    # If the stack is empty at the end, all the brackets are closed\n",
    "    return len(stack) == 0\n",
    "\n",
    "# Example usage\n",
    "code_snippet = \"{[()]}\"\n",
    "result = are_brackets_balanced(code_snippet)\n",
    "print(result)\n",
    "\n"
   ]
  },
  {
   "cell_type": "code",
   "execution_count": 13,
   "id": "14af7b9a",
   "metadata": {},
   "outputs": [
    {
     "name": "stdout",
     "output_type": "stream",
     "text": [
      "Original Stack: [1, 2, 3, 4]\n",
      "Reversed Stack: [4, 3, 2, 1]\n"
     ]
    }
   ],
   "source": [
    "\n",
    "\n",
    "class Stack:\n",
    "    def __init__(self):\n",
    "        self.items = []\n",
    "\n",
    "    def push(self, item):\n",
    "        self.items.append(item)\n",
    "\n",
    "    def pop(self):\n",
    "        if not self.is_empty():\n",
    "            return self.items.pop()\n",
    "\n",
    "    def is_empty(self):\n",
    "        return len(self.items) == 0\n",
    "\n",
    "    def size(self):\n",
    "        return len(self.items)\n",
    "\n",
    "    def peek(self):\n",
    "        if not self.is_empty():\n",
    "            return self.items[-1]\n",
    "\n",
    "\n",
    "def reverse_stack(stack):\n",
    "    if stack.is_empty():\n",
    "        return\n",
    "\n",
    "    # Remove the top item from the stack\n",
    "    item = stack.pop()\n",
    "\n",
    "    # Reverse the remaining stack\n",
    "    reverse_stack(stack)\n",
    "\n",
    "    # Insert the top item to the bottom of the reversed stack\n",
    "    insert_at_bottom(stack, item)\n",
    "\n",
    "\n",
    "def insert_at_bottom(stack, item):\n",
    "    if stack.is_empty():\n",
    "        stack.push(item)\n",
    "    else:\n",
    "        # Remove all items from the stack and insert them at the bottom\n",
    "        top_item = stack.pop()\n",
    "        insert_at_bottom(stack, item)\n",
    "        stack.push(top_item)\n",
    "\n",
    "\n",
    "# Example usage\n",
    "stack = Stack()\n",
    "stack.push(1)\n",
    "stack.push(2)\n",
    "stack.push(3)\n",
    "stack.push(4)\n",
    "\n",
    "print(\"Original Stack:\", stack.items)\n",
    "\n",
    "reverse_stack(stack)\n",
    "\n",
    "print(\"Reversed Stack:\", stack.items)\n",
    "\n"
   ]
  },
  {
   "cell_type": "code",
   "execution_count": 14,
   "id": "0bdb4cba",
   "metadata": {},
   "outputs": [
    {
     "name": "stdout",
     "output_type": "stream",
     "text": [
      "Smallest number: 1\n"
     ]
    }
   ],
   "source": [
    "\n",
    "\n",
    "class Stack:\n",
    "    def __init__(self):\n",
    "        self.items = []\n",
    "        self.min_stack = []\n",
    "\n",
    "    def push(self, item):\n",
    "        self.items.append(item)\n",
    "\n",
    "        # Update the min_stack with the new minimum value\n",
    "        if not self.min_stack or item <= self.min_stack[-1]:\n",
    "            self.min_stack.append(item)\n",
    "\n",
    "    def pop(self):\n",
    "        if not self.is_empty():\n",
    "            # Remove the top item from both stacks\n",
    "            popped_item = self.items.pop()\n",
    "\n",
    "            # Remove the corresponding minimum value from min_stack\n",
    "            if popped_item == self.min_stack[-1]:\n",
    "                self.min_stack.pop()\n",
    "\n",
    "            return popped_item\n",
    "\n",
    "    def is_empty(self):\n",
    "        return len(self.items) == 0\n",
    "\n",
    "    def size(self):\n",
    "        return len(self.items)\n",
    "\n",
    "    def peek(self):\n",
    "        if not self.is_empty():\n",
    "            return self.items[-1]\n",
    "\n",
    "    def get_min(self):\n",
    "        if not self.is_empty():\n",
    "            return self.min_stack[-1]\n",
    "\n",
    "\n",
    "# Example usage\n",
    "stack = Stack()\n",
    "stack.push(4)\n",
    "stack.push(2)\n",
    "stack.push(5)\n",
    "stack.push(1)\n",
    "\n",
    "print(\"Smallest number:\", stack.get_min())\n",
    "\n"
   ]
  },
  {
   "cell_type": "code",
   "execution_count": null,
   "id": "3c958c23",
   "metadata": {},
   "outputs": [],
   "source": []
  }
 ],
 "metadata": {
  "kernelspec": {
   "display_name": "Python 3 (ipykernel)",
   "language": "python",
   "name": "python3"
  },
  "language_info": {
   "codemirror_mode": {
    "name": "ipython",
    "version": 3
   },
   "file_extension": ".py",
   "mimetype": "text/x-python",
   "name": "python",
   "nbconvert_exporter": "python",
   "pygments_lexer": "ipython3",
   "version": "3.10.9"
  }
 },
 "nbformat": 4,
 "nbformat_minor": 5
}
